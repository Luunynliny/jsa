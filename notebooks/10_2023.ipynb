{
 "cells": [
  {
   "cell_type": "markdown",
   "metadata": {},
   "source": [
    "# Job search of September 2023"
   ]
  },
  {
   "cell_type": "markdown",
   "metadata": {},
   "source": [
    "## Context"
   ]
  },
  {
   "cell_type": "markdown",
   "metadata": {},
   "source": [
    "This is my first \"real\" job search, as it coincides with the end of my engineering school.\n",
    "\n",
    "I actually started looking for a first position in May 2023, during the middle of my end-of-study internship, but it was not successful.\n",
    "After my summer holidays, I decided to start searching again, but this time with a better organization to keep track of my application and recruitment processes.\n",
    "\n",
    "The data in this analysis is only focused on my adventure beginning in September 2023. Previous data is not considered due to inconsistent tracking and formatting.\n",
    "\n",
    "My goal was to find a junior position in the field of data science or machine learning."
   ]
  },
  {
   "cell_type": "markdown",
   "metadata": {},
   "source": [
    "### Constraints"
   ]
  },
  {
   "cell_type": "markdown",
   "metadata": {},
   "source": [
    "#### Targeted positions"
   ]
  },
  {
   "cell_type": "markdown",
   "metadata": {},
   "source": [
    "- Data Scientist\n",
    "- Data Engineer\n",
    "- Data Analyst\n",
    "- Machine Learning Engineer"
   ]
  },
  {
   "cell_type": "markdown",
   "metadata": {},
   "source": [
    "#### Localization"
   ]
  },
  {
   "cell_type": "markdown",
   "metadata": {},
   "source": [
    " - France (on-site, hybrid, remote)\n",
    " - Europe (remote)"
   ]
  }
 ],
 "metadata": {
  "language_info": {
   "name": "python"
  }
 },
 "nbformat": 4,
 "nbformat_minor": 2
}
