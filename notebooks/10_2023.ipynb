{
 "cells": [
  {
   "cell_type": "markdown",
   "metadata": {},
   "source": [
    "# Job search of September 2023"
   ]
  },
  {
   "cell_type": "markdown",
   "metadata": {},
   "source": [
    "## Context"
   ]
  },
  {
   "cell_type": "markdown",
   "metadata": {},
   "source": [
    "This is my first \"real\" job search, as it coincides with the end of my engineering school.\n",
    "\n",
    "I actually started looking for a first position in May 2023, during the middle of my end-of-study internship, but it was not successful.\n",
    "After my summer holidays, I decided to start searching again, but this time with a better organization to keep track of my application and recruitment processes.\n",
    "\n",
    "The data in this analysis is only focused on my adventure beginning in September 2023. Previous data is not considered due to inconsistent tracking and formatting.\n",
    "\n",
    "My goal was to find a junior position in the field of data science or machine learning."
   ]
  },
  {
   "cell_type": "markdown",
   "metadata": {},
   "source": [
    "### Constraints"
   ]
  },
  {
   "cell_type": "markdown",
   "metadata": {},
   "source": [
    "#### Targeted positions"
   ]
  },
  {
   "cell_type": "markdown",
   "metadata": {},
   "source": [
    "- Data Scientist\n",
    "- Data Engineer\n",
    "- Data Analyst\n",
    "- Machine Learning Engineer"
   ]
  },
  {
   "cell_type": "markdown",
   "metadata": {},
   "source": [
    "#### Localization"
   ]
  },
  {
   "cell_type": "markdown",
   "metadata": {},
   "source": [
    " - France (on-site, hybrid, remote)\n",
    " - Europe (remote)"
   ]
  },
  {
   "cell_type": "markdown",
   "metadata": {},
   "source": [
    "## JSA analysis"
   ]
  },
  {
   "cell_type": "markdown",
   "metadata": {},
   "source": [
    "### Imports"
   ]
  },
  {
   "cell_type": "code",
   "execution_count": 20,
   "metadata": {},
   "outputs": [],
   "source": [
    "%matplotlib inline\n",
    "\n",
    "import pandas as pd\n",
    "from plotly import express as px"
   ]
  },
  {
   "cell_type": "markdown",
   "metadata": {},
   "source": [
    "### Load the data"
   ]
  },
  {
   "cell_type": "code",
   "execution_count": 21,
   "metadata": {},
   "outputs": [
    {
     "data": {
      "text/html": [
       "<div>\n",
       "<style scoped>\n",
       "    .dataframe tbody tr th:only-of-type {\n",
       "        vertical-align: middle;\n",
       "    }\n",
       "\n",
       "    .dataframe tbody tr th {\n",
       "        vertical-align: top;\n",
       "    }\n",
       "\n",
       "    .dataframe thead th {\n",
       "        text-align: right;\n",
       "    }\n",
       "</style>\n",
       "<table border=\"1\" class=\"dataframe\">\n",
       "  <thead>\n",
       "    <tr style=\"text-align: right;\">\n",
       "      <th></th>\n",
       "      <th>Status</th>\n",
       "      <th>Company</th>\n",
       "      <th>Role</th>\n",
       "      <th>Location</th>\n",
       "      <th>Source</th>\n",
       "      <th>Attendance</th>\n",
       "      <th>Application</th>\n",
       "      <th>Type</th>\n",
       "      <th>Phone call</th>\n",
       "      <th>1st interview</th>\n",
       "      <th>2nd interview</th>\n",
       "      <th>3rd interview</th>\n",
       "      <th>Proposition</th>\n",
       "      <th>Final answer</th>\n",
       "      <th>URL</th>\n",
       "    </tr>\n",
       "  </thead>\n",
       "  <tbody>\n",
       "    <tr>\n",
       "      <th>0</th>\n",
       "      <td>Rejected</td>\n",
       "      <td>Orange</td>\n",
       "      <td>Data Scientist</td>\n",
       "      <td>Rennes</td>\n",
       "      <td>Carrer Site</td>\n",
       "      <td>NaN</td>\n",
       "      <td>30/08/2023</td>\n",
       "      <td>Offer</td>\n",
       "      <td>13/10/2023</td>\n",
       "      <td>NaN</td>\n",
       "      <td>NaN</td>\n",
       "      <td>NaN</td>\n",
       "      <td>NaN</td>\n",
       "      <td>26/10/2023</td>\n",
       "      <td>https://orange.jobs/jobs/v3/offers/127229?lang=</td>\n",
       "    </tr>\n",
       "    <tr>\n",
       "      <th>1</th>\n",
       "      <td>Applied</td>\n",
       "      <td>Orange</td>\n",
       "      <td>Data Scientist</td>\n",
       "      <td>Toulouse</td>\n",
       "      <td>Carrer Site</td>\n",
       "      <td>NaN</td>\n",
       "      <td>30/08/2023</td>\n",
       "      <td>Offer</td>\n",
       "      <td>NaN</td>\n",
       "      <td>NaN</td>\n",
       "      <td>NaN</td>\n",
       "      <td>NaN</td>\n",
       "      <td>NaN</td>\n",
       "      <td>NaN</td>\n",
       "      <td>https://orange.jobs/jobs/v3/offers/128950?lang=</td>\n",
       "    </tr>\n",
       "    <tr>\n",
       "      <th>2</th>\n",
       "      <td>Applied</td>\n",
       "      <td>AZ Consulting</td>\n",
       "      <td>Data Scientist</td>\n",
       "      <td>NaN</td>\n",
       "      <td>Recruitment Agency</td>\n",
       "      <td>NaN</td>\n",
       "      <td>31/08/2023</td>\n",
       "      <td>Spontaneous</td>\n",
       "      <td>NaN</td>\n",
       "      <td>NaN</td>\n",
       "      <td>NaN</td>\n",
       "      <td>NaN</td>\n",
       "      <td>NaN</td>\n",
       "      <td>NaN</td>\n",
       "      <td>https://az-recrutement.wixsite.com/az-recrutement</td>\n",
       "    </tr>\n",
       "    <tr>\n",
       "      <th>3</th>\n",
       "      <td>No project for now</td>\n",
       "      <td>ALTEN</td>\n",
       "      <td>NaN</td>\n",
       "      <td>Marignane</td>\n",
       "      <td>Reach-out</td>\n",
       "      <td>Hybrid</td>\n",
       "      <td>NaN</td>\n",
       "      <td>NaN</td>\n",
       "      <td>05/09/2023</td>\n",
       "      <td>06/09/2023 17:00</td>\n",
       "      <td>NaN</td>\n",
       "      <td>NaN</td>\n",
       "      <td>NaN</td>\n",
       "      <td>06/09/2023</td>\n",
       "      <td>NaN</td>\n",
       "    </tr>\n",
       "    <tr>\n",
       "      <th>4</th>\n",
       "      <td>No project for now</td>\n",
       "      <td>Astek</td>\n",
       "      <td>Data Scientist</td>\n",
       "      <td>NaN</td>\n",
       "      <td>LinkedIn</td>\n",
       "      <td>NaN</td>\n",
       "      <td>31/08/2023</td>\n",
       "      <td>Spontaneous</td>\n",
       "      <td>01/09/2023</td>\n",
       "      <td>07/09/2023 18:00</td>\n",
       "      <td>NaN</td>\n",
       "      <td>NaN</td>\n",
       "      <td>NaN</td>\n",
       "      <td>07/09/2023</td>\n",
       "      <td>https://www.linkedin.com/posts/killian-vincent...</td>\n",
       "    </tr>\n",
       "  </tbody>\n",
       "</table>\n",
       "</div>"
      ],
      "text/plain": [
       "               Status        Company            Role   Location  \\\n",
       "0            Rejected         Orange  Data Scientist     Rennes   \n",
       "1             Applied         Orange  Data Scientist   Toulouse   \n",
       "2             Applied  AZ Consulting  Data Scientist        NaN   \n",
       "3  No project for now          ALTEN             NaN  Marignane   \n",
       "4  No project for now          Astek  Data Scientist        NaN   \n",
       "\n",
       "               Source Attendance Application         Type  Phone call  \\\n",
       "0         Carrer Site        NaN  30/08/2023        Offer  13/10/2023   \n",
       "1         Carrer Site        NaN  30/08/2023        Offer         NaN   \n",
       "2  Recruitment Agency        NaN  31/08/2023  Spontaneous         NaN   \n",
       "3           Reach-out     Hybrid         NaN          NaN  05/09/2023   \n",
       "4            LinkedIn        NaN  31/08/2023  Spontaneous  01/09/2023   \n",
       "\n",
       "      1st interview 2nd interview 3rd interview Proposition Final answer  \\\n",
       "0               NaN           NaN           NaN         NaN   26/10/2023   \n",
       "1               NaN           NaN           NaN         NaN          NaN   \n",
       "2               NaN           NaN           NaN         NaN          NaN   \n",
       "3  06/09/2023 17:00           NaN           NaN         NaN   06/09/2023   \n",
       "4  07/09/2023 18:00           NaN           NaN         NaN   07/09/2023   \n",
       "\n",
       "                                                 URL  \n",
       "0    https://orange.jobs/jobs/v3/offers/127229?lang=  \n",
       "1    https://orange.jobs/jobs/v3/offers/128950?lang=  \n",
       "2  https://az-recrutement.wixsite.com/az-recrutement  \n",
       "3                                                NaN  \n",
       "4  https://www.linkedin.com/posts/killian-vincent...  "
      ]
     },
     "execution_count": 21,
     "metadata": {},
     "output_type": "execute_result"
    }
   ],
   "source": [
    "df_jsa_10_2023 = pd.read_csv(\"../data/raw/10_2023.csv\", dtype=str)\n",
    "\n",
    "df_jsa_10_2023.head()"
   ]
  },
  {
   "cell_type": "code",
   "execution_count": 22,
   "metadata": {},
   "outputs": [
    {
     "name": "stdout",
     "output_type": "stream",
     "text": [
      "<class 'pandas.core.frame.DataFrame'>\n",
      "RangeIndex: 447 entries, 0 to 446\n",
      "Data columns (total 15 columns):\n",
      " #   Column         Non-Null Count  Dtype \n",
      "---  ------         --------------  ----- \n",
      " 0   Status         447 non-null    object\n",
      " 1   Company        444 non-null    object\n",
      " 2   Role           441 non-null    object\n",
      " 3   Location       419 non-null    object\n",
      " 4   Source         446 non-null    object\n",
      " 5   Attendance     210 non-null    object\n",
      " 6   Application    437 non-null    object\n",
      " 7   Type           436 non-null    object\n",
      " 8   Phone call     15 non-null     object\n",
      " 9   1st interview  17 non-null     object\n",
      " 10  2nd interview  4 non-null      object\n",
      " 11  3rd interview  1 non-null      object\n",
      " 12  Proposition    4 non-null      object\n",
      " 13  Final answer   146 non-null    object\n",
      " 14  URL            411 non-null    object\n",
      "dtypes: object(15)\n",
      "memory usage: 52.5+ KB\n"
     ]
    }
   ],
   "source": [
    "df_jsa_10_2023.info()"
   ]
  },
  {
   "cell_type": "markdown",
   "metadata": {},
   "source": [
    "### Format the data"
   ]
  },
  {
   "cell_type": "code",
   "execution_count": 23,
   "metadata": {},
   "outputs": [],
   "source": [
    "df_jsa_10_2023_f = df_jsa_10_2023.copy()"
   ]
  },
  {
   "cell_type": "markdown",
   "metadata": {},
   "source": [
    "#### Datetime"
   ]
  },
  {
   "cell_type": "code",
   "execution_count": 24,
   "metadata": {},
   "outputs": [
    {
     "data": {
      "text/html": [
       "<div>\n",
       "<style scoped>\n",
       "    .dataframe tbody tr th:only-of-type {\n",
       "        vertical-align: middle;\n",
       "    }\n",
       "\n",
       "    .dataframe tbody tr th {\n",
       "        vertical-align: top;\n",
       "    }\n",
       "\n",
       "    .dataframe thead th {\n",
       "        text-align: right;\n",
       "    }\n",
       "</style>\n",
       "<table border=\"1\" class=\"dataframe\">\n",
       "  <thead>\n",
       "    <tr style=\"text-align: right;\">\n",
       "      <th></th>\n",
       "      <th>Application</th>\n",
       "      <th>Phone call</th>\n",
       "      <th>1st interview</th>\n",
       "      <th>2nd interview</th>\n",
       "      <th>3rd interview</th>\n",
       "      <th>Proposition</th>\n",
       "      <th>Final answer</th>\n",
       "    </tr>\n",
       "  </thead>\n",
       "  <tbody>\n",
       "    <tr>\n",
       "      <th>0</th>\n",
       "      <td>2023-08-30</td>\n",
       "      <td>2023-10-13</td>\n",
       "      <td>NaT</td>\n",
       "      <td>NaT</td>\n",
       "      <td>NaT</td>\n",
       "      <td>NaT</td>\n",
       "      <td>2023-10-26</td>\n",
       "    </tr>\n",
       "    <tr>\n",
       "      <th>1</th>\n",
       "      <td>2023-08-30</td>\n",
       "      <td>NaT</td>\n",
       "      <td>NaT</td>\n",
       "      <td>NaT</td>\n",
       "      <td>NaT</td>\n",
       "      <td>NaT</td>\n",
       "      <td>NaT</td>\n",
       "    </tr>\n",
       "    <tr>\n",
       "      <th>2</th>\n",
       "      <td>2023-08-31</td>\n",
       "      <td>NaT</td>\n",
       "      <td>NaT</td>\n",
       "      <td>NaT</td>\n",
       "      <td>NaT</td>\n",
       "      <td>NaT</td>\n",
       "      <td>NaT</td>\n",
       "    </tr>\n",
       "    <tr>\n",
       "      <th>3</th>\n",
       "      <td>NaT</td>\n",
       "      <td>2023-05-09</td>\n",
       "      <td>2023-06-09</td>\n",
       "      <td>NaT</td>\n",
       "      <td>NaT</td>\n",
       "      <td>NaT</td>\n",
       "      <td>2023-06-09</td>\n",
       "    </tr>\n",
       "    <tr>\n",
       "      <th>4</th>\n",
       "      <td>2023-08-31</td>\n",
       "      <td>2023-01-09</td>\n",
       "      <td>2023-07-09</td>\n",
       "      <td>NaT</td>\n",
       "      <td>NaT</td>\n",
       "      <td>NaT</td>\n",
       "      <td>2023-07-09</td>\n",
       "    </tr>\n",
       "  </tbody>\n",
       "</table>\n",
       "</div>"
      ],
      "text/plain": [
       "  Application Phone call 1st interview 2nd interview 3rd interview  \\\n",
       "0  2023-08-30 2023-10-13           NaT           NaT           NaT   \n",
       "1  2023-08-30        NaT           NaT           NaT           NaT   \n",
       "2  2023-08-31        NaT           NaT           NaT           NaT   \n",
       "3         NaT 2023-05-09    2023-06-09           NaT           NaT   \n",
       "4  2023-08-31 2023-01-09    2023-07-09           NaT           NaT   \n",
       "\n",
       "  Proposition Final answer  \n",
       "0         NaT   2023-10-26  \n",
       "1         NaT          NaT  \n",
       "2         NaT          NaT  \n",
       "3         NaT   2023-06-09  \n",
       "4         NaT   2023-07-09  "
      ]
     },
     "execution_count": 24,
     "metadata": {},
     "output_type": "execute_result"
    }
   ],
   "source": [
    "dates_col = [\"Application\",\n",
    "             \"Phone call\",\n",
    "             \"1st interview\",\n",
    "             \"2nd interview\",\n",
    "             \"3rd interview\",\n",
    "             \"Proposition\",\n",
    "             \"Final answer\"]\n",
    "\n",
    "# Convert to datetime\n",
    "df_jsa_10_2023_f[dates_col] = df_jsa_10_2023_f[dates_col].apply(pd.to_datetime, format=\"mixed\")\n",
    "# Remove time\n",
    "df_jsa_10_2023_f[dates_col] = df_jsa_10_2023_f[dates_col].apply(lambda x : x.dt.normalize())\n",
    "\n",
    "df_jsa_10_2023_f[dates_col].head()"
   ]
  },
  {
   "cell_type": "markdown",
   "metadata": {},
   "source": [
    "#### Categories"
   ]
  },
  {
   "cell_type": "code",
   "execution_count": 25,
   "metadata": {},
   "outputs": [
    {
     "data": {
      "text/html": [
       "<div>\n",
       "<style scoped>\n",
       "    .dataframe tbody tr th:only-of-type {\n",
       "        vertical-align: middle;\n",
       "    }\n",
       "\n",
       "    .dataframe tbody tr th {\n",
       "        vertical-align: top;\n",
       "    }\n",
       "\n",
       "    .dataframe thead th {\n",
       "        text-align: right;\n",
       "    }\n",
       "</style>\n",
       "<table border=\"1\" class=\"dataframe\">\n",
       "  <thead>\n",
       "    <tr style=\"text-align: right;\">\n",
       "      <th></th>\n",
       "      <th>Status</th>\n",
       "      <th>Location</th>\n",
       "      <th>Role</th>\n",
       "      <th>Source</th>\n",
       "      <th>Attendance</th>\n",
       "      <th>Type</th>\n",
       "    </tr>\n",
       "  </thead>\n",
       "  <tbody>\n",
       "    <tr>\n",
       "      <th>0</th>\n",
       "      <td>Rejected</td>\n",
       "      <td>Rennes</td>\n",
       "      <td>Data Scientist</td>\n",
       "      <td>Carrer Site</td>\n",
       "      <td>Not specified</td>\n",
       "      <td>Offer</td>\n",
       "    </tr>\n",
       "    <tr>\n",
       "      <th>1</th>\n",
       "      <td>Applied</td>\n",
       "      <td>Toulouse</td>\n",
       "      <td>Data Scientist</td>\n",
       "      <td>Carrer Site</td>\n",
       "      <td>Not specified</td>\n",
       "      <td>Offer</td>\n",
       "    </tr>\n",
       "    <tr>\n",
       "      <th>2</th>\n",
       "      <td>Applied</td>\n",
       "      <td>Not specified</td>\n",
       "      <td>Data Scientist</td>\n",
       "      <td>Recruitment Agency</td>\n",
       "      <td>Not specified</td>\n",
       "      <td>Spontaneous</td>\n",
       "    </tr>\n",
       "    <tr>\n",
       "      <th>3</th>\n",
       "      <td>No project for now</td>\n",
       "      <td>Marignane</td>\n",
       "      <td>Not specified</td>\n",
       "      <td>Reach-out</td>\n",
       "      <td>Hybrid</td>\n",
       "      <td>Not specified</td>\n",
       "    </tr>\n",
       "    <tr>\n",
       "      <th>4</th>\n",
       "      <td>No project for now</td>\n",
       "      <td>Not specified</td>\n",
       "      <td>Data Scientist</td>\n",
       "      <td>LinkedIn</td>\n",
       "      <td>Not specified</td>\n",
       "      <td>Spontaneous</td>\n",
       "    </tr>\n",
       "  </tbody>\n",
       "</table>\n",
       "</div>"
      ],
      "text/plain": [
       "               Status       Location            Role              Source  \\\n",
       "0            Rejected         Rennes  Data Scientist         Carrer Site   \n",
       "1             Applied       Toulouse  Data Scientist         Carrer Site   \n",
       "2             Applied  Not specified  Data Scientist  Recruitment Agency   \n",
       "3  No project for now      Marignane   Not specified           Reach-out   \n",
       "4  No project for now  Not specified  Data Scientist            LinkedIn   \n",
       "\n",
       "      Attendance           Type  \n",
       "0  Not specified          Offer  \n",
       "1  Not specified          Offer  \n",
       "2  Not specified    Spontaneous  \n",
       "3         Hybrid  Not specified  \n",
       "4  Not specified    Spontaneous  "
      ]
     },
     "execution_count": 25,
     "metadata": {},
     "output_type": "execute_result"
    }
   ],
   "source": [
    "categories_col = [\"Status\", \"Location\", \"Role\", \"Source\", \"Attendance\", \"Type\"]\n",
    "\n",
    "df_jsa_10_2023_f[categories_col] = df_jsa_10_2023_f[categories_col].fillna(\"Not specified\")\n",
    "\n",
    "df_jsa_10_2023_f[categories_col].head()"
   ]
  },
  {
   "cell_type": "markdown",
   "metadata": {},
   "source": [
    "#### Column names"
   ]
  },
  {
   "cell_type": "code",
   "execution_count": 26,
   "metadata": {},
   "outputs": [
    {
     "data": {
      "text/html": [
       "<div>\n",
       "<style scoped>\n",
       "    .dataframe tbody tr th:only-of-type {\n",
       "        vertical-align: middle;\n",
       "    }\n",
       "\n",
       "    .dataframe tbody tr th {\n",
       "        vertical-align: top;\n",
       "    }\n",
       "\n",
       "    .dataframe thead th {\n",
       "        text-align: right;\n",
       "    }\n",
       "</style>\n",
       "<table border=\"1\" class=\"dataframe\">\n",
       "  <thead>\n",
       "    <tr style=\"text-align: right;\">\n",
       "      <th></th>\n",
       "      <th>status</th>\n",
       "      <th>company</th>\n",
       "      <th>role</th>\n",
       "      <th>location</th>\n",
       "      <th>source</th>\n",
       "      <th>attendance</th>\n",
       "      <th>application</th>\n",
       "      <th>type</th>\n",
       "      <th>phone_call</th>\n",
       "      <th>1st_interview</th>\n",
       "      <th>2nd_interview</th>\n",
       "      <th>3rd_interview</th>\n",
       "      <th>proposition</th>\n",
       "      <th>final_answer</th>\n",
       "      <th>url</th>\n",
       "    </tr>\n",
       "  </thead>\n",
       "  <tbody>\n",
       "    <tr>\n",
       "      <th>0</th>\n",
       "      <td>Rejected</td>\n",
       "      <td>Orange</td>\n",
       "      <td>Data Scientist</td>\n",
       "      <td>Rennes</td>\n",
       "      <td>Carrer Site</td>\n",
       "      <td>Not specified</td>\n",
       "      <td>2023-08-30</td>\n",
       "      <td>Offer</td>\n",
       "      <td>2023-10-13</td>\n",
       "      <td>NaT</td>\n",
       "      <td>NaT</td>\n",
       "      <td>NaT</td>\n",
       "      <td>NaT</td>\n",
       "      <td>2023-10-26</td>\n",
       "      <td>https://orange.jobs/jobs/v3/offers/127229?lang=</td>\n",
       "    </tr>\n",
       "    <tr>\n",
       "      <th>1</th>\n",
       "      <td>Applied</td>\n",
       "      <td>Orange</td>\n",
       "      <td>Data Scientist</td>\n",
       "      <td>Toulouse</td>\n",
       "      <td>Carrer Site</td>\n",
       "      <td>Not specified</td>\n",
       "      <td>2023-08-30</td>\n",
       "      <td>Offer</td>\n",
       "      <td>NaT</td>\n",
       "      <td>NaT</td>\n",
       "      <td>NaT</td>\n",
       "      <td>NaT</td>\n",
       "      <td>NaT</td>\n",
       "      <td>NaT</td>\n",
       "      <td>https://orange.jobs/jobs/v3/offers/128950?lang=</td>\n",
       "    </tr>\n",
       "    <tr>\n",
       "      <th>2</th>\n",
       "      <td>Applied</td>\n",
       "      <td>AZ Consulting</td>\n",
       "      <td>Data Scientist</td>\n",
       "      <td>Not specified</td>\n",
       "      <td>Recruitment Agency</td>\n",
       "      <td>Not specified</td>\n",
       "      <td>2023-08-31</td>\n",
       "      <td>Spontaneous</td>\n",
       "      <td>NaT</td>\n",
       "      <td>NaT</td>\n",
       "      <td>NaT</td>\n",
       "      <td>NaT</td>\n",
       "      <td>NaT</td>\n",
       "      <td>NaT</td>\n",
       "      <td>https://az-recrutement.wixsite.com/az-recrutement</td>\n",
       "    </tr>\n",
       "    <tr>\n",
       "      <th>3</th>\n",
       "      <td>No project for now</td>\n",
       "      <td>ALTEN</td>\n",
       "      <td>Not specified</td>\n",
       "      <td>Marignane</td>\n",
       "      <td>Reach-out</td>\n",
       "      <td>Hybrid</td>\n",
       "      <td>NaT</td>\n",
       "      <td>Not specified</td>\n",
       "      <td>2023-05-09</td>\n",
       "      <td>2023-06-09</td>\n",
       "      <td>NaT</td>\n",
       "      <td>NaT</td>\n",
       "      <td>NaT</td>\n",
       "      <td>2023-06-09</td>\n",
       "      <td>NaN</td>\n",
       "    </tr>\n",
       "    <tr>\n",
       "      <th>4</th>\n",
       "      <td>No project for now</td>\n",
       "      <td>Astek</td>\n",
       "      <td>Data Scientist</td>\n",
       "      <td>Not specified</td>\n",
       "      <td>LinkedIn</td>\n",
       "      <td>Not specified</td>\n",
       "      <td>2023-08-31</td>\n",
       "      <td>Spontaneous</td>\n",
       "      <td>2023-01-09</td>\n",
       "      <td>2023-07-09</td>\n",
       "      <td>NaT</td>\n",
       "      <td>NaT</td>\n",
       "      <td>NaT</td>\n",
       "      <td>2023-07-09</td>\n",
       "      <td>https://www.linkedin.com/posts/killian-vincent...</td>\n",
       "    </tr>\n",
       "  </tbody>\n",
       "</table>\n",
       "</div>"
      ],
      "text/plain": [
       "               status        company            role       location  \\\n",
       "0            Rejected         Orange  Data Scientist         Rennes   \n",
       "1             Applied         Orange  Data Scientist       Toulouse   \n",
       "2             Applied  AZ Consulting  Data Scientist  Not specified   \n",
       "3  No project for now          ALTEN   Not specified      Marignane   \n",
       "4  No project for now          Astek  Data Scientist  Not specified   \n",
       "\n",
       "               source     attendance application           type phone_call  \\\n",
       "0         Carrer Site  Not specified  2023-08-30          Offer 2023-10-13   \n",
       "1         Carrer Site  Not specified  2023-08-30          Offer        NaT   \n",
       "2  Recruitment Agency  Not specified  2023-08-31    Spontaneous        NaT   \n",
       "3           Reach-out         Hybrid         NaT  Not specified 2023-05-09   \n",
       "4            LinkedIn  Not specified  2023-08-31    Spontaneous 2023-01-09   \n",
       "\n",
       "  1st_interview 2nd_interview 3rd_interview proposition final_answer  \\\n",
       "0           NaT           NaT           NaT         NaT   2023-10-26   \n",
       "1           NaT           NaT           NaT         NaT          NaT   \n",
       "2           NaT           NaT           NaT         NaT          NaT   \n",
       "3    2023-06-09           NaT           NaT         NaT   2023-06-09   \n",
       "4    2023-07-09           NaT           NaT         NaT   2023-07-09   \n",
       "\n",
       "                                                 url  \n",
       "0    https://orange.jobs/jobs/v3/offers/127229?lang=  \n",
       "1    https://orange.jobs/jobs/v3/offers/128950?lang=  \n",
       "2  https://az-recrutement.wixsite.com/az-recrutement  \n",
       "3                                                NaN  \n",
       "4  https://www.linkedin.com/posts/killian-vincent...  "
      ]
     },
     "execution_count": 26,
     "metadata": {},
     "output_type": "execute_result"
    }
   ],
   "source": [
    "def to_snake_case(s: str) -> str:\n",
    "    \"\"\"Format a given string into snake-case format.\n",
    "\n",
    "    Args:\n",
    "        s (str): a string.\n",
    "\n",
    "    Returns:\n",
    "        str: snake-case formatted string.\n",
    "    \"\"\"\n",
    "    s = s.strip().lower()\n",
    "    s = s.replace(\" \", \"_\")\n",
    "\n",
    "    return s\n",
    "\n",
    "df_jsa_10_2023_f.rename(to_snake_case, axis='columns', inplace=True)\n",
    "\n",
    "df_jsa_10_2023_f.head()"
   ]
  },
  {
   "cell_type": "markdown",
   "metadata": {},
   "source": [
    "### Save processed data"
   ]
  },
  {
   "cell_type": "code",
   "execution_count": 27,
   "metadata": {},
   "outputs": [
    {
     "data": {
      "text/html": [
       "<div>\n",
       "<style scoped>\n",
       "    .dataframe tbody tr th:only-of-type {\n",
       "        vertical-align: middle;\n",
       "    }\n",
       "\n",
       "    .dataframe tbody tr th {\n",
       "        vertical-align: top;\n",
       "    }\n",
       "\n",
       "    .dataframe thead th {\n",
       "        text-align: right;\n",
       "    }\n",
       "</style>\n",
       "<table border=\"1\" class=\"dataframe\">\n",
       "  <thead>\n",
       "    <tr style=\"text-align: right;\">\n",
       "      <th></th>\n",
       "      <th>status</th>\n",
       "      <th>company</th>\n",
       "      <th>role</th>\n",
       "      <th>location</th>\n",
       "      <th>source</th>\n",
       "      <th>attendance</th>\n",
       "      <th>application</th>\n",
       "      <th>type</th>\n",
       "      <th>phone_call</th>\n",
       "      <th>1st_interview</th>\n",
       "      <th>2nd_interview</th>\n",
       "      <th>3rd_interview</th>\n",
       "      <th>proposition</th>\n",
       "      <th>final_answer</th>\n",
       "      <th>url</th>\n",
       "    </tr>\n",
       "  </thead>\n",
       "  <tbody>\n",
       "    <tr>\n",
       "      <th>0</th>\n",
       "      <td>Rejected</td>\n",
       "      <td>Orange</td>\n",
       "      <td>Data Scientist</td>\n",
       "      <td>Rennes</td>\n",
       "      <td>Carrer Site</td>\n",
       "      <td>Not specified</td>\n",
       "      <td>2023-08-30</td>\n",
       "      <td>Offer</td>\n",
       "      <td>2023-10-13</td>\n",
       "      <td>NaT</td>\n",
       "      <td>NaT</td>\n",
       "      <td>NaT</td>\n",
       "      <td>NaT</td>\n",
       "      <td>2023-10-26</td>\n",
       "      <td>https://orange.jobs/jobs/v3/offers/127229?lang=</td>\n",
       "    </tr>\n",
       "    <tr>\n",
       "      <th>1</th>\n",
       "      <td>Applied</td>\n",
       "      <td>Orange</td>\n",
       "      <td>Data Scientist</td>\n",
       "      <td>Toulouse</td>\n",
       "      <td>Carrer Site</td>\n",
       "      <td>Not specified</td>\n",
       "      <td>2023-08-30</td>\n",
       "      <td>Offer</td>\n",
       "      <td>NaT</td>\n",
       "      <td>NaT</td>\n",
       "      <td>NaT</td>\n",
       "      <td>NaT</td>\n",
       "      <td>NaT</td>\n",
       "      <td>NaT</td>\n",
       "      <td>https://orange.jobs/jobs/v3/offers/128950?lang=</td>\n",
       "    </tr>\n",
       "    <tr>\n",
       "      <th>2</th>\n",
       "      <td>Applied</td>\n",
       "      <td>AZ Consulting</td>\n",
       "      <td>Data Scientist</td>\n",
       "      <td>Not specified</td>\n",
       "      <td>Recruitment Agency</td>\n",
       "      <td>Not specified</td>\n",
       "      <td>2023-08-31</td>\n",
       "      <td>Spontaneous</td>\n",
       "      <td>NaT</td>\n",
       "      <td>NaT</td>\n",
       "      <td>NaT</td>\n",
       "      <td>NaT</td>\n",
       "      <td>NaT</td>\n",
       "      <td>NaT</td>\n",
       "      <td>https://az-recrutement.wixsite.com/az-recrutement</td>\n",
       "    </tr>\n",
       "    <tr>\n",
       "      <th>3</th>\n",
       "      <td>No project for now</td>\n",
       "      <td>ALTEN</td>\n",
       "      <td>Not specified</td>\n",
       "      <td>Marignane</td>\n",
       "      <td>Reach-out</td>\n",
       "      <td>Hybrid</td>\n",
       "      <td>NaT</td>\n",
       "      <td>Not specified</td>\n",
       "      <td>2023-05-09</td>\n",
       "      <td>2023-06-09</td>\n",
       "      <td>NaT</td>\n",
       "      <td>NaT</td>\n",
       "      <td>NaT</td>\n",
       "      <td>2023-06-09</td>\n",
       "      <td>NaN</td>\n",
       "    </tr>\n",
       "    <tr>\n",
       "      <th>4</th>\n",
       "      <td>No project for now</td>\n",
       "      <td>Astek</td>\n",
       "      <td>Data Scientist</td>\n",
       "      <td>Not specified</td>\n",
       "      <td>LinkedIn</td>\n",
       "      <td>Not specified</td>\n",
       "      <td>2023-08-31</td>\n",
       "      <td>Spontaneous</td>\n",
       "      <td>2023-01-09</td>\n",
       "      <td>2023-07-09</td>\n",
       "      <td>NaT</td>\n",
       "      <td>NaT</td>\n",
       "      <td>NaT</td>\n",
       "      <td>2023-07-09</td>\n",
       "      <td>https://www.linkedin.com/posts/killian-vincent...</td>\n",
       "    </tr>\n",
       "  </tbody>\n",
       "</table>\n",
       "</div>"
      ],
      "text/plain": [
       "               status        company            role       location  \\\n",
       "0            Rejected         Orange  Data Scientist         Rennes   \n",
       "1             Applied         Orange  Data Scientist       Toulouse   \n",
       "2             Applied  AZ Consulting  Data Scientist  Not specified   \n",
       "3  No project for now          ALTEN   Not specified      Marignane   \n",
       "4  No project for now          Astek  Data Scientist  Not specified   \n",
       "\n",
       "               source     attendance application           type phone_call  \\\n",
       "0         Carrer Site  Not specified  2023-08-30          Offer 2023-10-13   \n",
       "1         Carrer Site  Not specified  2023-08-30          Offer        NaT   \n",
       "2  Recruitment Agency  Not specified  2023-08-31    Spontaneous        NaT   \n",
       "3           Reach-out         Hybrid         NaT  Not specified 2023-05-09   \n",
       "4            LinkedIn  Not specified  2023-08-31    Spontaneous 2023-01-09   \n",
       "\n",
       "  1st_interview 2nd_interview 3rd_interview proposition final_answer  \\\n",
       "0           NaT           NaT           NaT         NaT   2023-10-26   \n",
       "1           NaT           NaT           NaT         NaT          NaT   \n",
       "2           NaT           NaT           NaT         NaT          NaT   \n",
       "3    2023-06-09           NaT           NaT         NaT   2023-06-09   \n",
       "4    2023-07-09           NaT           NaT         NaT   2023-07-09   \n",
       "\n",
       "                                                 url  \n",
       "0    https://orange.jobs/jobs/v3/offers/127229?lang=  \n",
       "1    https://orange.jobs/jobs/v3/offers/128950?lang=  \n",
       "2  https://az-recrutement.wixsite.com/az-recrutement  \n",
       "3                                                NaN  \n",
       "4  https://www.linkedin.com/posts/killian-vincent...  "
      ]
     },
     "execution_count": 27,
     "metadata": {},
     "output_type": "execute_result"
    }
   ],
   "source": [
    "df_jsa_10_2023_f.head()"
   ]
  },
  {
   "cell_type": "code",
   "execution_count": 28,
   "metadata": {},
   "outputs": [
    {
     "name": "stdout",
     "output_type": "stream",
     "text": [
      "<class 'pandas.core.frame.DataFrame'>\n",
      "RangeIndex: 447 entries, 0 to 446\n",
      "Data columns (total 15 columns):\n",
      " #   Column         Non-Null Count  Dtype         \n",
      "---  ------         --------------  -----         \n",
      " 0   status         447 non-null    object        \n",
      " 1   company        444 non-null    object        \n",
      " 2   role           447 non-null    object        \n",
      " 3   location       447 non-null    object        \n",
      " 4   source         447 non-null    object        \n",
      " 5   attendance     447 non-null    object        \n",
      " 6   application    437 non-null    datetime64[ns]\n",
      " 7   type           447 non-null    object        \n",
      " 8   phone_call     15 non-null     datetime64[ns]\n",
      " 9   1st_interview  17 non-null     datetime64[ns]\n",
      " 10  2nd_interview  4 non-null      datetime64[ns]\n",
      " 11  3rd_interview  1 non-null      datetime64[ns]\n",
      " 12  proposition    4 non-null      datetime64[ns]\n",
      " 13  final_answer   146 non-null    datetime64[ns]\n",
      " 14  url            411 non-null    object        \n",
      "dtypes: datetime64[ns](7), object(8)\n",
      "memory usage: 52.5+ KB\n"
     ]
    }
   ],
   "source": [
    "df_jsa_10_2023_f.info()"
   ]
  },
  {
   "cell_type": "code",
   "execution_count": 29,
   "metadata": {},
   "outputs": [],
   "source": [
    "df_jsa_10_2023_f.to_csv(\"../data/processed/10_2023.csv\", index=False)"
   ]
  },
  {
   "cell_type": "markdown",
   "metadata": {},
   "source": [
    "### Insights"
   ]
  },
  {
   "cell_type": "markdown",
   "metadata": {},
   "source": [
    "#### Load processed data"
   ]
  },
  {
   "cell_type": "code",
   "execution_count": 31,
   "metadata": {},
   "outputs": [
    {
     "data": {
      "text/html": [
       "<div>\n",
       "<style scoped>\n",
       "    .dataframe tbody tr th:only-of-type {\n",
       "        vertical-align: middle;\n",
       "    }\n",
       "\n",
       "    .dataframe tbody tr th {\n",
       "        vertical-align: top;\n",
       "    }\n",
       "\n",
       "    .dataframe thead th {\n",
       "        text-align: right;\n",
       "    }\n",
       "</style>\n",
       "<table border=\"1\" class=\"dataframe\">\n",
       "  <thead>\n",
       "    <tr style=\"text-align: right;\">\n",
       "      <th></th>\n",
       "      <th>status</th>\n",
       "      <th>company</th>\n",
       "      <th>role</th>\n",
       "      <th>location</th>\n",
       "      <th>source</th>\n",
       "      <th>attendance</th>\n",
       "      <th>application</th>\n",
       "      <th>type</th>\n",
       "      <th>phone_call</th>\n",
       "      <th>1st_interview</th>\n",
       "      <th>2nd_interview</th>\n",
       "      <th>3rd_interview</th>\n",
       "      <th>proposition</th>\n",
       "      <th>final_answer</th>\n",
       "      <th>url</th>\n",
       "    </tr>\n",
       "  </thead>\n",
       "  <tbody>\n",
       "    <tr>\n",
       "      <th>0</th>\n",
       "      <td>Rejected</td>\n",
       "      <td>Orange</td>\n",
       "      <td>Data Scientist</td>\n",
       "      <td>Rennes</td>\n",
       "      <td>Carrer Site</td>\n",
       "      <td>Not specified</td>\n",
       "      <td>2023-08-30</td>\n",
       "      <td>Offer</td>\n",
       "      <td>2023-10-13</td>\n",
       "      <td>NaT</td>\n",
       "      <td>NaT</td>\n",
       "      <td>NaT</td>\n",
       "      <td>NaT</td>\n",
       "      <td>2023-10-26</td>\n",
       "      <td>https://orange.jobs/jobs/v3/offers/127229?lang=</td>\n",
       "    </tr>\n",
       "    <tr>\n",
       "      <th>1</th>\n",
       "      <td>Applied</td>\n",
       "      <td>Orange</td>\n",
       "      <td>Data Scientist</td>\n",
       "      <td>Toulouse</td>\n",
       "      <td>Carrer Site</td>\n",
       "      <td>Not specified</td>\n",
       "      <td>2023-08-30</td>\n",
       "      <td>Offer</td>\n",
       "      <td>NaT</td>\n",
       "      <td>NaT</td>\n",
       "      <td>NaT</td>\n",
       "      <td>NaT</td>\n",
       "      <td>NaT</td>\n",
       "      <td>NaT</td>\n",
       "      <td>https://orange.jobs/jobs/v3/offers/128950?lang=</td>\n",
       "    </tr>\n",
       "    <tr>\n",
       "      <th>2</th>\n",
       "      <td>Applied</td>\n",
       "      <td>AZ Consulting</td>\n",
       "      <td>Data Scientist</td>\n",
       "      <td>Not specified</td>\n",
       "      <td>Recruitment Agency</td>\n",
       "      <td>Not specified</td>\n",
       "      <td>2023-08-31</td>\n",
       "      <td>Spontaneous</td>\n",
       "      <td>NaT</td>\n",
       "      <td>NaT</td>\n",
       "      <td>NaT</td>\n",
       "      <td>NaT</td>\n",
       "      <td>NaT</td>\n",
       "      <td>NaT</td>\n",
       "      <td>https://az-recrutement.wixsite.com/az-recrutement</td>\n",
       "    </tr>\n",
       "    <tr>\n",
       "      <th>3</th>\n",
       "      <td>No project for now</td>\n",
       "      <td>ALTEN</td>\n",
       "      <td>Not specified</td>\n",
       "      <td>Marignane</td>\n",
       "      <td>Reach-out</td>\n",
       "      <td>Hybrid</td>\n",
       "      <td>NaT</td>\n",
       "      <td>Not specified</td>\n",
       "      <td>2023-05-09</td>\n",
       "      <td>2023-06-09</td>\n",
       "      <td>NaT</td>\n",
       "      <td>NaT</td>\n",
       "      <td>NaT</td>\n",
       "      <td>2023-06-09</td>\n",
       "      <td>NaN</td>\n",
       "    </tr>\n",
       "    <tr>\n",
       "      <th>4</th>\n",
       "      <td>No project for now</td>\n",
       "      <td>Astek</td>\n",
       "      <td>Data Scientist</td>\n",
       "      <td>Not specified</td>\n",
       "      <td>LinkedIn</td>\n",
       "      <td>Not specified</td>\n",
       "      <td>2023-08-31</td>\n",
       "      <td>Spontaneous</td>\n",
       "      <td>2023-01-09</td>\n",
       "      <td>2023-07-09</td>\n",
       "      <td>NaT</td>\n",
       "      <td>NaT</td>\n",
       "      <td>NaT</td>\n",
       "      <td>2023-07-09</td>\n",
       "      <td>https://www.linkedin.com/posts/killian-vincent...</td>\n",
       "    </tr>\n",
       "  </tbody>\n",
       "</table>\n",
       "</div>"
      ],
      "text/plain": [
       "               status        company            role       location  \\\n",
       "0            Rejected         Orange  Data Scientist         Rennes   \n",
       "1             Applied         Orange  Data Scientist       Toulouse   \n",
       "2             Applied  AZ Consulting  Data Scientist  Not specified   \n",
       "3  No project for now          ALTEN   Not specified      Marignane   \n",
       "4  No project for now          Astek  Data Scientist  Not specified   \n",
       "\n",
       "               source     attendance application           type phone_call  \\\n",
       "0         Carrer Site  Not specified  2023-08-30          Offer 2023-10-13   \n",
       "1         Carrer Site  Not specified  2023-08-30          Offer        NaT   \n",
       "2  Recruitment Agency  Not specified  2023-08-31    Spontaneous        NaT   \n",
       "3           Reach-out         Hybrid         NaT  Not specified 2023-05-09   \n",
       "4            LinkedIn  Not specified  2023-08-31    Spontaneous 2023-01-09   \n",
       "\n",
       "  1st_interview 2nd_interview 3rd_interview proposition final_answer  \\\n",
       "0           NaT           NaT           NaT         NaT   2023-10-26   \n",
       "1           NaT           NaT           NaT         NaT          NaT   \n",
       "2           NaT           NaT           NaT         NaT          NaT   \n",
       "3    2023-06-09           NaT           NaT         NaT   2023-06-09   \n",
       "4    2023-07-09           NaT           NaT         NaT   2023-07-09   \n",
       "\n",
       "                                                 url  \n",
       "0    https://orange.jobs/jobs/v3/offers/127229?lang=  \n",
       "1    https://orange.jobs/jobs/v3/offers/128950?lang=  \n",
       "2  https://az-recrutement.wixsite.com/az-recrutement  \n",
       "3                                                NaN  \n",
       "4  https://www.linkedin.com/posts/killian-vincent...  "
      ]
     },
     "execution_count": 31,
     "metadata": {},
     "output_type": "execute_result"
    }
   ],
   "source": [
    "df_jsa_10_2023_p = pd.read_csv(\"../data/processed/10_2023.csv\",\n",
    "                               parse_dates=[\"application\",\n",
    "                                            \"phone_call\",\n",
    "                                            \"1st_interview\",\n",
    "                                            \"2nd_interview\",\n",
    "                                            \"3rd_interview\",\n",
    "                                            \"proposition\",\n",
    "                                            \"final_answer\"])\n",
    "\n",
    "df_jsa_10_2023_p.head()"
   ]
  },
  {
   "cell_type": "code",
   "execution_count": 32,
   "metadata": {},
   "outputs": [
    {
     "name": "stdout",
     "output_type": "stream",
     "text": [
      "<class 'pandas.core.frame.DataFrame'>\n",
      "RangeIndex: 447 entries, 0 to 446\n",
      "Data columns (total 15 columns):\n",
      " #   Column         Non-Null Count  Dtype         \n",
      "---  ------         --------------  -----         \n",
      " 0   status         447 non-null    object        \n",
      " 1   company        444 non-null    object        \n",
      " 2   role           447 non-null    object        \n",
      " 3   location       447 non-null    object        \n",
      " 4   source         447 non-null    object        \n",
      " 5   attendance     447 non-null    object        \n",
      " 6   application    437 non-null    datetime64[ns]\n",
      " 7   type           447 non-null    object        \n",
      " 8   phone_call     15 non-null     datetime64[ns]\n",
      " 9   1st_interview  17 non-null     datetime64[ns]\n",
      " 10  2nd_interview  4 non-null      datetime64[ns]\n",
      " 11  3rd_interview  1 non-null      datetime64[ns]\n",
      " 12  proposition    4 non-null      datetime64[ns]\n",
      " 13  final_answer   146 non-null    datetime64[ns]\n",
      " 14  url            411 non-null    object        \n",
      "dtypes: datetime64[ns](7), object(8)\n",
      "memory usage: 52.5+ KB\n"
     ]
    }
   ],
   "source": [
    "df_jsa_10_2023_p.info()"
   ]
  },
  {
   "cell_type": "markdown",
   "metadata": {},
   "source": [
    "#### Application statuses"
   ]
  },
  {
   "cell_type": "code",
   "execution_count": 47,
   "metadata": {},
   "outputs": [
    {
     "data": {
      "application/vnd.plotly.v1+json": {
       "config": {
        "plotlyServerURL": "https://plot.ly"
       },
       "data": [
        {
         "domain": {
          "x": [
           0,
           1
          ],
          "y": [
           0,
           1
          ]
         },
         "hovertemplate": "label=%{label}<br>value=%{value}<extra></extra>",
         "labels": [
          "Applied",
          "Rejected",
          "Turn down",
          "No project for now",
          "In process",
          "Accepted"
         ],
         "legendgroup": "",
         "name": "",
         "showlegend": true,
         "type": "pie",
         "values": [
          299,
          137,
          5,
          3,
          2,
          1
         ]
        }
       ],
       "layout": {
        "legend": {
         "tracegroupgap": 0
        },
        "template": {
         "data": {
          "bar": [
           {
            "error_x": {
             "color": "#2a3f5f"
            },
            "error_y": {
             "color": "#2a3f5f"
            },
            "marker": {
             "line": {
              "color": "#E5ECF6",
              "width": 0.5
             },
             "pattern": {
              "fillmode": "overlay",
              "size": 10,
              "solidity": 0.2
             }
            },
            "type": "bar"
           }
          ],
          "barpolar": [
           {
            "marker": {
             "line": {
              "color": "#E5ECF6",
              "width": 0.5
             },
             "pattern": {
              "fillmode": "overlay",
              "size": 10,
              "solidity": 0.2
             }
            },
            "type": "barpolar"
           }
          ],
          "carpet": [
           {
            "aaxis": {
             "endlinecolor": "#2a3f5f",
             "gridcolor": "white",
             "linecolor": "white",
             "minorgridcolor": "white",
             "startlinecolor": "#2a3f5f"
            },
            "baxis": {
             "endlinecolor": "#2a3f5f",
             "gridcolor": "white",
             "linecolor": "white",
             "minorgridcolor": "white",
             "startlinecolor": "#2a3f5f"
            },
            "type": "carpet"
           }
          ],
          "choropleth": [
           {
            "colorbar": {
             "outlinewidth": 0,
             "ticks": ""
            },
            "type": "choropleth"
           }
          ],
          "contour": [
           {
            "colorbar": {
             "outlinewidth": 0,
             "ticks": ""
            },
            "colorscale": [
             [
              0,
              "#0d0887"
             ],
             [
              0.1111111111111111,
              "#46039f"
             ],
             [
              0.2222222222222222,
              "#7201a8"
             ],
             [
              0.3333333333333333,
              "#9c179e"
             ],
             [
              0.4444444444444444,
              "#bd3786"
             ],
             [
              0.5555555555555556,
              "#d8576b"
             ],
             [
              0.6666666666666666,
              "#ed7953"
             ],
             [
              0.7777777777777778,
              "#fb9f3a"
             ],
             [
              0.8888888888888888,
              "#fdca26"
             ],
             [
              1,
              "#f0f921"
             ]
            ],
            "type": "contour"
           }
          ],
          "contourcarpet": [
           {
            "colorbar": {
             "outlinewidth": 0,
             "ticks": ""
            },
            "type": "contourcarpet"
           }
          ],
          "heatmap": [
           {
            "colorbar": {
             "outlinewidth": 0,
             "ticks": ""
            },
            "colorscale": [
             [
              0,
              "#0d0887"
             ],
             [
              0.1111111111111111,
              "#46039f"
             ],
             [
              0.2222222222222222,
              "#7201a8"
             ],
             [
              0.3333333333333333,
              "#9c179e"
             ],
             [
              0.4444444444444444,
              "#bd3786"
             ],
             [
              0.5555555555555556,
              "#d8576b"
             ],
             [
              0.6666666666666666,
              "#ed7953"
             ],
             [
              0.7777777777777778,
              "#fb9f3a"
             ],
             [
              0.8888888888888888,
              "#fdca26"
             ],
             [
              1,
              "#f0f921"
             ]
            ],
            "type": "heatmap"
           }
          ],
          "heatmapgl": [
           {
            "colorbar": {
             "outlinewidth": 0,
             "ticks": ""
            },
            "colorscale": [
             [
              0,
              "#0d0887"
             ],
             [
              0.1111111111111111,
              "#46039f"
             ],
             [
              0.2222222222222222,
              "#7201a8"
             ],
             [
              0.3333333333333333,
              "#9c179e"
             ],
             [
              0.4444444444444444,
              "#bd3786"
             ],
             [
              0.5555555555555556,
              "#d8576b"
             ],
             [
              0.6666666666666666,
              "#ed7953"
             ],
             [
              0.7777777777777778,
              "#fb9f3a"
             ],
             [
              0.8888888888888888,
              "#fdca26"
             ],
             [
              1,
              "#f0f921"
             ]
            ],
            "type": "heatmapgl"
           }
          ],
          "histogram": [
           {
            "marker": {
             "pattern": {
              "fillmode": "overlay",
              "size": 10,
              "solidity": 0.2
             }
            },
            "type": "histogram"
           }
          ],
          "histogram2d": [
           {
            "colorbar": {
             "outlinewidth": 0,
             "ticks": ""
            },
            "colorscale": [
             [
              0,
              "#0d0887"
             ],
             [
              0.1111111111111111,
              "#46039f"
             ],
             [
              0.2222222222222222,
              "#7201a8"
             ],
             [
              0.3333333333333333,
              "#9c179e"
             ],
             [
              0.4444444444444444,
              "#bd3786"
             ],
             [
              0.5555555555555556,
              "#d8576b"
             ],
             [
              0.6666666666666666,
              "#ed7953"
             ],
             [
              0.7777777777777778,
              "#fb9f3a"
             ],
             [
              0.8888888888888888,
              "#fdca26"
             ],
             [
              1,
              "#f0f921"
             ]
            ],
            "type": "histogram2d"
           }
          ],
          "histogram2dcontour": [
           {
            "colorbar": {
             "outlinewidth": 0,
             "ticks": ""
            },
            "colorscale": [
             [
              0,
              "#0d0887"
             ],
             [
              0.1111111111111111,
              "#46039f"
             ],
             [
              0.2222222222222222,
              "#7201a8"
             ],
             [
              0.3333333333333333,
              "#9c179e"
             ],
             [
              0.4444444444444444,
              "#bd3786"
             ],
             [
              0.5555555555555556,
              "#d8576b"
             ],
             [
              0.6666666666666666,
              "#ed7953"
             ],
             [
              0.7777777777777778,
              "#fb9f3a"
             ],
             [
              0.8888888888888888,
              "#fdca26"
             ],
             [
              1,
              "#f0f921"
             ]
            ],
            "type": "histogram2dcontour"
           }
          ],
          "mesh3d": [
           {
            "colorbar": {
             "outlinewidth": 0,
             "ticks": ""
            },
            "type": "mesh3d"
           }
          ],
          "parcoords": [
           {
            "line": {
             "colorbar": {
              "outlinewidth": 0,
              "ticks": ""
             }
            },
            "type": "parcoords"
           }
          ],
          "pie": [
           {
            "automargin": true,
            "type": "pie"
           }
          ],
          "scatter": [
           {
            "fillpattern": {
             "fillmode": "overlay",
             "size": 10,
             "solidity": 0.2
            },
            "type": "scatter"
           }
          ],
          "scatter3d": [
           {
            "line": {
             "colorbar": {
              "outlinewidth": 0,
              "ticks": ""
             }
            },
            "marker": {
             "colorbar": {
              "outlinewidth": 0,
              "ticks": ""
             }
            },
            "type": "scatter3d"
           }
          ],
          "scattercarpet": [
           {
            "marker": {
             "colorbar": {
              "outlinewidth": 0,
              "ticks": ""
             }
            },
            "type": "scattercarpet"
           }
          ],
          "scattergeo": [
           {
            "marker": {
             "colorbar": {
              "outlinewidth": 0,
              "ticks": ""
             }
            },
            "type": "scattergeo"
           }
          ],
          "scattergl": [
           {
            "marker": {
             "colorbar": {
              "outlinewidth": 0,
              "ticks": ""
             }
            },
            "type": "scattergl"
           }
          ],
          "scattermapbox": [
           {
            "marker": {
             "colorbar": {
              "outlinewidth": 0,
              "ticks": ""
             }
            },
            "type": "scattermapbox"
           }
          ],
          "scatterpolar": [
           {
            "marker": {
             "colorbar": {
              "outlinewidth": 0,
              "ticks": ""
             }
            },
            "type": "scatterpolar"
           }
          ],
          "scatterpolargl": [
           {
            "marker": {
             "colorbar": {
              "outlinewidth": 0,
              "ticks": ""
             }
            },
            "type": "scatterpolargl"
           }
          ],
          "scatterternary": [
           {
            "marker": {
             "colorbar": {
              "outlinewidth": 0,
              "ticks": ""
             }
            },
            "type": "scatterternary"
           }
          ],
          "surface": [
           {
            "colorbar": {
             "outlinewidth": 0,
             "ticks": ""
            },
            "colorscale": [
             [
              0,
              "#0d0887"
             ],
             [
              0.1111111111111111,
              "#46039f"
             ],
             [
              0.2222222222222222,
              "#7201a8"
             ],
             [
              0.3333333333333333,
              "#9c179e"
             ],
             [
              0.4444444444444444,
              "#bd3786"
             ],
             [
              0.5555555555555556,
              "#d8576b"
             ],
             [
              0.6666666666666666,
              "#ed7953"
             ],
             [
              0.7777777777777778,
              "#fb9f3a"
             ],
             [
              0.8888888888888888,
              "#fdca26"
             ],
             [
              1,
              "#f0f921"
             ]
            ],
            "type": "surface"
           }
          ],
          "table": [
           {
            "cells": {
             "fill": {
              "color": "#EBF0F8"
             },
             "line": {
              "color": "white"
             }
            },
            "header": {
             "fill": {
              "color": "#C8D4E3"
             },
             "line": {
              "color": "white"
             }
            },
            "type": "table"
           }
          ]
         },
         "layout": {
          "annotationdefaults": {
           "arrowcolor": "#2a3f5f",
           "arrowhead": 0,
           "arrowwidth": 1
          },
          "autotypenumbers": "strict",
          "coloraxis": {
           "colorbar": {
            "outlinewidth": 0,
            "ticks": ""
           }
          },
          "colorscale": {
           "diverging": [
            [
             0,
             "#8e0152"
            ],
            [
             0.1,
             "#c51b7d"
            ],
            [
             0.2,
             "#de77ae"
            ],
            [
             0.3,
             "#f1b6da"
            ],
            [
             0.4,
             "#fde0ef"
            ],
            [
             0.5,
             "#f7f7f7"
            ],
            [
             0.6,
             "#e6f5d0"
            ],
            [
             0.7,
             "#b8e186"
            ],
            [
             0.8,
             "#7fbc41"
            ],
            [
             0.9,
             "#4d9221"
            ],
            [
             1,
             "#276419"
            ]
           ],
           "sequential": [
            [
             0,
             "#0d0887"
            ],
            [
             0.1111111111111111,
             "#46039f"
            ],
            [
             0.2222222222222222,
             "#7201a8"
            ],
            [
             0.3333333333333333,
             "#9c179e"
            ],
            [
             0.4444444444444444,
             "#bd3786"
            ],
            [
             0.5555555555555556,
             "#d8576b"
            ],
            [
             0.6666666666666666,
             "#ed7953"
            ],
            [
             0.7777777777777778,
             "#fb9f3a"
            ],
            [
             0.8888888888888888,
             "#fdca26"
            ],
            [
             1,
             "#f0f921"
            ]
           ],
           "sequentialminus": [
            [
             0,
             "#0d0887"
            ],
            [
             0.1111111111111111,
             "#46039f"
            ],
            [
             0.2222222222222222,
             "#7201a8"
            ],
            [
             0.3333333333333333,
             "#9c179e"
            ],
            [
             0.4444444444444444,
             "#bd3786"
            ],
            [
             0.5555555555555556,
             "#d8576b"
            ],
            [
             0.6666666666666666,
             "#ed7953"
            ],
            [
             0.7777777777777778,
             "#fb9f3a"
            ],
            [
             0.8888888888888888,
             "#fdca26"
            ],
            [
             1,
             "#f0f921"
            ]
           ]
          },
          "colorway": [
           "#636efa",
           "#EF553B",
           "#00cc96",
           "#ab63fa",
           "#FFA15A",
           "#19d3f3",
           "#FF6692",
           "#B6E880",
           "#FF97FF",
           "#FECB52"
          ],
          "font": {
           "color": "#2a3f5f"
          },
          "geo": {
           "bgcolor": "white",
           "lakecolor": "white",
           "landcolor": "#E5ECF6",
           "showlakes": true,
           "showland": true,
           "subunitcolor": "white"
          },
          "hoverlabel": {
           "align": "left"
          },
          "hovermode": "closest",
          "mapbox": {
           "style": "light"
          },
          "paper_bgcolor": "white",
          "plot_bgcolor": "#E5ECF6",
          "polar": {
           "angularaxis": {
            "gridcolor": "white",
            "linecolor": "white",
            "ticks": ""
           },
           "bgcolor": "#E5ECF6",
           "radialaxis": {
            "gridcolor": "white",
            "linecolor": "white",
            "ticks": ""
           }
          },
          "scene": {
           "xaxis": {
            "backgroundcolor": "#E5ECF6",
            "gridcolor": "white",
            "gridwidth": 2,
            "linecolor": "white",
            "showbackground": true,
            "ticks": "",
            "zerolinecolor": "white"
           },
           "yaxis": {
            "backgroundcolor": "#E5ECF6",
            "gridcolor": "white",
            "gridwidth": 2,
            "linecolor": "white",
            "showbackground": true,
            "ticks": "",
            "zerolinecolor": "white"
           },
           "zaxis": {
            "backgroundcolor": "#E5ECF6",
            "gridcolor": "white",
            "gridwidth": 2,
            "linecolor": "white",
            "showbackground": true,
            "ticks": "",
            "zerolinecolor": "white"
           }
          },
          "shapedefaults": {
           "line": {
            "color": "#2a3f5f"
           }
          },
          "ternary": {
           "aaxis": {
            "gridcolor": "white",
            "linecolor": "white",
            "ticks": ""
           },
           "baxis": {
            "gridcolor": "white",
            "linecolor": "white",
            "ticks": ""
           },
           "bgcolor": "#E5ECF6",
           "caxis": {
            "gridcolor": "white",
            "linecolor": "white",
            "ticks": ""
           }
          },
          "title": {
           "x": 0.05
          },
          "xaxis": {
           "automargin": true,
           "gridcolor": "white",
           "linecolor": "white",
           "ticks": "",
           "title": {
            "standoff": 15
           },
           "zerolinecolor": "white",
           "zerolinewidth": 2
          },
          "yaxis": {
           "automargin": true,
           "gridcolor": "white",
           "linecolor": "white",
           "ticks": "",
           "title": {
            "standoff": 15
           },
           "zerolinecolor": "white",
           "zerolinewidth": 2
          }
         }
        },
        "title": {
         "text": "Application status distribution"
        }
       }
      }
     },
     "metadata": {},
     "output_type": "display_data"
    }
   ],
   "source": [
    "status_counts = df_jsa_10_2023_p[\"status\"].value_counts()\n",
    "\n",
    "px.pie(values=status_counts.values, names=status_counts.index,\n",
    "       title=\"Application status distribution\")"
   ]
  },
  {
   "cell_type": "markdown",
   "metadata": {},
   "source": [
    "#### Application sources"
   ]
  },
  {
   "cell_type": "code",
   "execution_count": 54,
   "metadata": {},
   "outputs": [
    {
     "data": {
      "application/vnd.plotly.v1+json": {
       "config": {
        "plotlyServerURL": "https://plot.ly"
       },
       "data": [
        {
         "domain": {
          "x": [
           0,
           1
          ],
          "y": [
           0,
           1
          ]
         },
         "hovertemplate": "label=%{label}<br>value=%{value}<extra></extra>",
         "labels": [
          "Carrer Site",
          "LinkedIn",
          "Apec",
          "Pole emploi",
          "HelloWork",
          "Welcome to the Jungle",
          "Reach-out",
          "Cadremploi",
          "Recruitment Agency",
          "Not specified"
         ],
         "legendgroup": "",
         "name": "",
         "showlegend": true,
         "type": "pie",
         "values": [
          226,
          137,
          22,
          17,
          16,
          13,
          10,
          4,
          1,
          1
         ]
        }
       ],
       "layout": {
        "legend": {
         "tracegroupgap": 0
        },
        "template": {
         "data": {
          "bar": [
           {
            "error_x": {
             "color": "#2a3f5f"
            },
            "error_y": {
             "color": "#2a3f5f"
            },
            "marker": {
             "line": {
              "color": "#E5ECF6",
              "width": 0.5
             },
             "pattern": {
              "fillmode": "overlay",
              "size": 10,
              "solidity": 0.2
             }
            },
            "type": "bar"
           }
          ],
          "barpolar": [
           {
            "marker": {
             "line": {
              "color": "#E5ECF6",
              "width": 0.5
             },
             "pattern": {
              "fillmode": "overlay",
              "size": 10,
              "solidity": 0.2
             }
            },
            "type": "barpolar"
           }
          ],
          "carpet": [
           {
            "aaxis": {
             "endlinecolor": "#2a3f5f",
             "gridcolor": "white",
             "linecolor": "white",
             "minorgridcolor": "white",
             "startlinecolor": "#2a3f5f"
            },
            "baxis": {
             "endlinecolor": "#2a3f5f",
             "gridcolor": "white",
             "linecolor": "white",
             "minorgridcolor": "white",
             "startlinecolor": "#2a3f5f"
            },
            "type": "carpet"
           }
          ],
          "choropleth": [
           {
            "colorbar": {
             "outlinewidth": 0,
             "ticks": ""
            },
            "type": "choropleth"
           }
          ],
          "contour": [
           {
            "colorbar": {
             "outlinewidth": 0,
             "ticks": ""
            },
            "colorscale": [
             [
              0,
              "#0d0887"
             ],
             [
              0.1111111111111111,
              "#46039f"
             ],
             [
              0.2222222222222222,
              "#7201a8"
             ],
             [
              0.3333333333333333,
              "#9c179e"
             ],
             [
              0.4444444444444444,
              "#bd3786"
             ],
             [
              0.5555555555555556,
              "#d8576b"
             ],
             [
              0.6666666666666666,
              "#ed7953"
             ],
             [
              0.7777777777777778,
              "#fb9f3a"
             ],
             [
              0.8888888888888888,
              "#fdca26"
             ],
             [
              1,
              "#f0f921"
             ]
            ],
            "type": "contour"
           }
          ],
          "contourcarpet": [
           {
            "colorbar": {
             "outlinewidth": 0,
             "ticks": ""
            },
            "type": "contourcarpet"
           }
          ],
          "heatmap": [
           {
            "colorbar": {
             "outlinewidth": 0,
             "ticks": ""
            },
            "colorscale": [
             [
              0,
              "#0d0887"
             ],
             [
              0.1111111111111111,
              "#46039f"
             ],
             [
              0.2222222222222222,
              "#7201a8"
             ],
             [
              0.3333333333333333,
              "#9c179e"
             ],
             [
              0.4444444444444444,
              "#bd3786"
             ],
             [
              0.5555555555555556,
              "#d8576b"
             ],
             [
              0.6666666666666666,
              "#ed7953"
             ],
             [
              0.7777777777777778,
              "#fb9f3a"
             ],
             [
              0.8888888888888888,
              "#fdca26"
             ],
             [
              1,
              "#f0f921"
             ]
            ],
            "type": "heatmap"
           }
          ],
          "heatmapgl": [
           {
            "colorbar": {
             "outlinewidth": 0,
             "ticks": ""
            },
            "colorscale": [
             [
              0,
              "#0d0887"
             ],
             [
              0.1111111111111111,
              "#46039f"
             ],
             [
              0.2222222222222222,
              "#7201a8"
             ],
             [
              0.3333333333333333,
              "#9c179e"
             ],
             [
              0.4444444444444444,
              "#bd3786"
             ],
             [
              0.5555555555555556,
              "#d8576b"
             ],
             [
              0.6666666666666666,
              "#ed7953"
             ],
             [
              0.7777777777777778,
              "#fb9f3a"
             ],
             [
              0.8888888888888888,
              "#fdca26"
             ],
             [
              1,
              "#f0f921"
             ]
            ],
            "type": "heatmapgl"
           }
          ],
          "histogram": [
           {
            "marker": {
             "pattern": {
              "fillmode": "overlay",
              "size": 10,
              "solidity": 0.2
             }
            },
            "type": "histogram"
           }
          ],
          "histogram2d": [
           {
            "colorbar": {
             "outlinewidth": 0,
             "ticks": ""
            },
            "colorscale": [
             [
              0,
              "#0d0887"
             ],
             [
              0.1111111111111111,
              "#46039f"
             ],
             [
              0.2222222222222222,
              "#7201a8"
             ],
             [
              0.3333333333333333,
              "#9c179e"
             ],
             [
              0.4444444444444444,
              "#bd3786"
             ],
             [
              0.5555555555555556,
              "#d8576b"
             ],
             [
              0.6666666666666666,
              "#ed7953"
             ],
             [
              0.7777777777777778,
              "#fb9f3a"
             ],
             [
              0.8888888888888888,
              "#fdca26"
             ],
             [
              1,
              "#f0f921"
             ]
            ],
            "type": "histogram2d"
           }
          ],
          "histogram2dcontour": [
           {
            "colorbar": {
             "outlinewidth": 0,
             "ticks": ""
            },
            "colorscale": [
             [
              0,
              "#0d0887"
             ],
             [
              0.1111111111111111,
              "#46039f"
             ],
             [
              0.2222222222222222,
              "#7201a8"
             ],
             [
              0.3333333333333333,
              "#9c179e"
             ],
             [
              0.4444444444444444,
              "#bd3786"
             ],
             [
              0.5555555555555556,
              "#d8576b"
             ],
             [
              0.6666666666666666,
              "#ed7953"
             ],
             [
              0.7777777777777778,
              "#fb9f3a"
             ],
             [
              0.8888888888888888,
              "#fdca26"
             ],
             [
              1,
              "#f0f921"
             ]
            ],
            "type": "histogram2dcontour"
           }
          ],
          "mesh3d": [
           {
            "colorbar": {
             "outlinewidth": 0,
             "ticks": ""
            },
            "type": "mesh3d"
           }
          ],
          "parcoords": [
           {
            "line": {
             "colorbar": {
              "outlinewidth": 0,
              "ticks": ""
             }
            },
            "type": "parcoords"
           }
          ],
          "pie": [
           {
            "automargin": true,
            "type": "pie"
           }
          ],
          "scatter": [
           {
            "fillpattern": {
             "fillmode": "overlay",
             "size": 10,
             "solidity": 0.2
            },
            "type": "scatter"
           }
          ],
          "scatter3d": [
           {
            "line": {
             "colorbar": {
              "outlinewidth": 0,
              "ticks": ""
             }
            },
            "marker": {
             "colorbar": {
              "outlinewidth": 0,
              "ticks": ""
             }
            },
            "type": "scatter3d"
           }
          ],
          "scattercarpet": [
           {
            "marker": {
             "colorbar": {
              "outlinewidth": 0,
              "ticks": ""
             }
            },
            "type": "scattercarpet"
           }
          ],
          "scattergeo": [
           {
            "marker": {
             "colorbar": {
              "outlinewidth": 0,
              "ticks": ""
             }
            },
            "type": "scattergeo"
           }
          ],
          "scattergl": [
           {
            "marker": {
             "colorbar": {
              "outlinewidth": 0,
              "ticks": ""
             }
            },
            "type": "scattergl"
           }
          ],
          "scattermapbox": [
           {
            "marker": {
             "colorbar": {
              "outlinewidth": 0,
              "ticks": ""
             }
            },
            "type": "scattermapbox"
           }
          ],
          "scatterpolar": [
           {
            "marker": {
             "colorbar": {
              "outlinewidth": 0,
              "ticks": ""
             }
            },
            "type": "scatterpolar"
           }
          ],
          "scatterpolargl": [
           {
            "marker": {
             "colorbar": {
              "outlinewidth": 0,
              "ticks": ""
             }
            },
            "type": "scatterpolargl"
           }
          ],
          "scatterternary": [
           {
            "marker": {
             "colorbar": {
              "outlinewidth": 0,
              "ticks": ""
             }
            },
            "type": "scatterternary"
           }
          ],
          "surface": [
           {
            "colorbar": {
             "outlinewidth": 0,
             "ticks": ""
            },
            "colorscale": [
             [
              0,
              "#0d0887"
             ],
             [
              0.1111111111111111,
              "#46039f"
             ],
             [
              0.2222222222222222,
              "#7201a8"
             ],
             [
              0.3333333333333333,
              "#9c179e"
             ],
             [
              0.4444444444444444,
              "#bd3786"
             ],
             [
              0.5555555555555556,
              "#d8576b"
             ],
             [
              0.6666666666666666,
              "#ed7953"
             ],
             [
              0.7777777777777778,
              "#fb9f3a"
             ],
             [
              0.8888888888888888,
              "#fdca26"
             ],
             [
              1,
              "#f0f921"
             ]
            ],
            "type": "surface"
           }
          ],
          "table": [
           {
            "cells": {
             "fill": {
              "color": "#EBF0F8"
             },
             "line": {
              "color": "white"
             }
            },
            "header": {
             "fill": {
              "color": "#C8D4E3"
             },
             "line": {
              "color": "white"
             }
            },
            "type": "table"
           }
          ]
         },
         "layout": {
          "annotationdefaults": {
           "arrowcolor": "#2a3f5f",
           "arrowhead": 0,
           "arrowwidth": 1
          },
          "autotypenumbers": "strict",
          "coloraxis": {
           "colorbar": {
            "outlinewidth": 0,
            "ticks": ""
           }
          },
          "colorscale": {
           "diverging": [
            [
             0,
             "#8e0152"
            ],
            [
             0.1,
             "#c51b7d"
            ],
            [
             0.2,
             "#de77ae"
            ],
            [
             0.3,
             "#f1b6da"
            ],
            [
             0.4,
             "#fde0ef"
            ],
            [
             0.5,
             "#f7f7f7"
            ],
            [
             0.6,
             "#e6f5d0"
            ],
            [
             0.7,
             "#b8e186"
            ],
            [
             0.8,
             "#7fbc41"
            ],
            [
             0.9,
             "#4d9221"
            ],
            [
             1,
             "#276419"
            ]
           ],
           "sequential": [
            [
             0,
             "#0d0887"
            ],
            [
             0.1111111111111111,
             "#46039f"
            ],
            [
             0.2222222222222222,
             "#7201a8"
            ],
            [
             0.3333333333333333,
             "#9c179e"
            ],
            [
             0.4444444444444444,
             "#bd3786"
            ],
            [
             0.5555555555555556,
             "#d8576b"
            ],
            [
             0.6666666666666666,
             "#ed7953"
            ],
            [
             0.7777777777777778,
             "#fb9f3a"
            ],
            [
             0.8888888888888888,
             "#fdca26"
            ],
            [
             1,
             "#f0f921"
            ]
           ],
           "sequentialminus": [
            [
             0,
             "#0d0887"
            ],
            [
             0.1111111111111111,
             "#46039f"
            ],
            [
             0.2222222222222222,
             "#7201a8"
            ],
            [
             0.3333333333333333,
             "#9c179e"
            ],
            [
             0.4444444444444444,
             "#bd3786"
            ],
            [
             0.5555555555555556,
             "#d8576b"
            ],
            [
             0.6666666666666666,
             "#ed7953"
            ],
            [
             0.7777777777777778,
             "#fb9f3a"
            ],
            [
             0.8888888888888888,
             "#fdca26"
            ],
            [
             1,
             "#f0f921"
            ]
           ]
          },
          "colorway": [
           "#636efa",
           "#EF553B",
           "#00cc96",
           "#ab63fa",
           "#FFA15A",
           "#19d3f3",
           "#FF6692",
           "#B6E880",
           "#FF97FF",
           "#FECB52"
          ],
          "font": {
           "color": "#2a3f5f"
          },
          "geo": {
           "bgcolor": "white",
           "lakecolor": "white",
           "landcolor": "#E5ECF6",
           "showlakes": true,
           "showland": true,
           "subunitcolor": "white"
          },
          "hoverlabel": {
           "align": "left"
          },
          "hovermode": "closest",
          "mapbox": {
           "style": "light"
          },
          "paper_bgcolor": "white",
          "plot_bgcolor": "#E5ECF6",
          "polar": {
           "angularaxis": {
            "gridcolor": "white",
            "linecolor": "white",
            "ticks": ""
           },
           "bgcolor": "#E5ECF6",
           "radialaxis": {
            "gridcolor": "white",
            "linecolor": "white",
            "ticks": ""
           }
          },
          "scene": {
           "xaxis": {
            "backgroundcolor": "#E5ECF6",
            "gridcolor": "white",
            "gridwidth": 2,
            "linecolor": "white",
            "showbackground": true,
            "ticks": "",
            "zerolinecolor": "white"
           },
           "yaxis": {
            "backgroundcolor": "#E5ECF6",
            "gridcolor": "white",
            "gridwidth": 2,
            "linecolor": "white",
            "showbackground": true,
            "ticks": "",
            "zerolinecolor": "white"
           },
           "zaxis": {
            "backgroundcolor": "#E5ECF6",
            "gridcolor": "white",
            "gridwidth": 2,
            "linecolor": "white",
            "showbackground": true,
            "ticks": "",
            "zerolinecolor": "white"
           }
          },
          "shapedefaults": {
           "line": {
            "color": "#2a3f5f"
           }
          },
          "ternary": {
           "aaxis": {
            "gridcolor": "white",
            "linecolor": "white",
            "ticks": ""
           },
           "baxis": {
            "gridcolor": "white",
            "linecolor": "white",
            "ticks": ""
           },
           "bgcolor": "#E5ECF6",
           "caxis": {
            "gridcolor": "white",
            "linecolor": "white",
            "ticks": ""
           }
          },
          "title": {
           "x": 0.05
          },
          "xaxis": {
           "automargin": true,
           "gridcolor": "white",
           "linecolor": "white",
           "ticks": "",
           "title": {
            "standoff": 15
           },
           "zerolinecolor": "white",
           "zerolinewidth": 2
          },
          "yaxis": {
           "automargin": true,
           "gridcolor": "white",
           "linecolor": "white",
           "ticks": "",
           "title": {
            "standoff": 15
           },
           "zerolinecolor": "white",
           "zerolinewidth": 2
          }
         }
        },
        "title": {
         "text": "Application website distribution"
        }
       }
      }
     },
     "metadata": {},
     "output_type": "display_data"
    }
   ],
   "source": [
    "source_counts = df_jsa_10_2023_p[\"source\"].value_counts()\n",
    "\n",
    "px.pie(values=source_counts.values, names=source_counts.index,\n",
    "       title=\"Application website distribution\")"
   ]
  }
 ],
 "metadata": {
  "kernelspec": {
   "display_name": "jsa",
   "language": "python",
   "name": "python3"
  },
  "language_info": {
   "codemirror_mode": {
    "name": "ipython",
    "version": 3
   },
   "file_extension": ".py",
   "mimetype": "text/x-python",
   "name": "python",
   "nbconvert_exporter": "python",
   "pygments_lexer": "ipython3",
   "version": "3.12.0"
  }
 },
 "nbformat": 4,
 "nbformat_minor": 2
}
